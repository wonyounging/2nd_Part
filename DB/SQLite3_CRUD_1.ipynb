{
 "cells": [
  {
   "cell_type": "code",
   "execution_count": 1,
   "id": "841aca0f",
   "metadata": {},
   "outputs": [
    {
     "name": "stdout",
     "output_type": "stream",
     "text": [
      "(3, 33, 0)\n"
     ]
    }
   ],
   "source": [
    "import sqlite3\n",
    "print(sqlite3.sqlite_version_info) # (3, 21, 0)"
   ]
  },
  {
   "attachments": {},
   "cell_type": "markdown",
   "id": "6b66c8dc",
   "metadata": {},
   "source": [
    "# SQLite3 데이터베이스 생성"
   ]
  },
  {
   "cell_type": "code",
   "execution_count": 2,
   "id": "177c3075",
   "metadata": {},
   "outputs": [
    {
     "name": "stdout",
     "output_type": "stream",
     "text": [
      "('홍길동', '010-1111-1111', '서울시')\n",
      "('이순신', '010-2222-2222', '해남시')\n",
      "('강감찬', '010-1111-1111', '인천시')\n",
      "이름 \t전화번호 \t주소\n",
      "홍길동 \t 010-1111-1111 \t 서울시\n",
      "이순신 \t 010-2222-2222 \t 해남시\n",
      "강감찬 \t 010-1111-1111 \t 인천시\n"
     ]
    }
   ],
   "source": [
    "try:\n",
    "    # (1) db 연동 객체\n",
    "    conn = sqlite3.connect(\"./data/sqlite_db.db\") # db 생성 -> 연결\n",
    "\n",
    "    # (2) sql 실행 객체\n",
    "    cursor = conn.cursor()\n",
    "    \n",
    "    # (3) table 생성\n",
    "    sql='create table if not exists test_table(name text(10), phone text(15), addr text(50))'\n",
    "    cursor.execute(sql) # sql문 실행\n",
    "    \n",
    "    # (4) 레코드 추가\n",
    "    cursor.execute(\"insert into test_table values('홍길동', '010-1111-1111', '서울시')\")\n",
    "    cursor.execute(\"insert into test_table values('이순신', '010-2222-2222', '해남시')\")\n",
    "    cursor.execute(\"insert into test_table values('강감찬', '010-1111-1111', '인천시')\")\n",
    "    conn.commit() # db 반영\n",
    "    \n",
    "    # (5) 레코드 조회\n",
    "    cursor.execute(\"select * from test_table\")\n",
    "    rows = cursor.fetchall() # 조회 레코드 가져오기\n",
    "    \n",
    "    for row in rows: # (6) 레코드 출력1\n",
    "        print(row)\n",
    "        \n",
    "    print('이름 \\t전화번호 \\t주소') # (7) 레코드 출력2\n",
    "    for row in rows:\n",
    "        print (row[0], '\\t', row[1], '\\t', row[2])\n",
    "except Exception as e:\n",
    "    print('db 연동 실패 : ', e)\n",
    "    conn.rollback() # 실행 취소\n",
    "finally:\n",
    "    cursor.close() # cursor 객체 닫기\n",
    "    conn.close() # conn 객체 닫기"
   ]
  },
  {
   "attachments": {},
   "cell_type": "markdown",
   "id": "01453957",
   "metadata": {},
   "source": [
    "# SQLite3 CRUD_1"
   ]
  },
  {
   "cell_type": "code",
   "execution_count": 6,
   "id": "43a78411",
   "metadata": {},
   "outputs": [
    {
     "name": "stdout",
     "output_type": "stream",
     "text": [
      "2 2 2 2.0\n",
      "검색된 레코드 수 :  1\n",
      "검색된 레코드 없음\n"
     ]
    }
   ],
   "source": [
    "try:\n",
    "    # (1) db 연동 객체\n",
    "    conn = sqlite3.connect(\"./data/sqlite\") # db 생성 -> 연결    \n",
    "    \n",
    "    # sql 실행 객체\n",
    "    cursor = conn.cursor()\n",
    "    \n",
    "    # (1) table 생성\n",
    "    sql = \"\"\"create table if not exists goods(\n",
    "    code integer primary key,\n",
    "    name text(30) unique not null,\n",
    "    su integer default 0,\n",
    "    dan real default 0.0\n",
    "    )\"\"\"\n",
    "    cursor.execute(sql) # sql 실행\n",
    "    \n",
    "    # # (2) 레코드 추가\n",
    "    # cursor.execute(\"insert into goods values(1, '냉장고', 2, 8500000)\")\n",
    "    # cursor.execute(\"insert into goods values(2, '세탁기', 3, 5500000)\")\n",
    "    # cursor.execute(\"insert into goods(code , name) values(3, '전자레인지')\")\n",
    "    # cursor.execute(\"insert into goods(code, name, dan) values(4, 'HDTV', 15000000)\")\n",
    "    # conn.commit () # db 반영\n",
    "    \n",
    "    # (3) 례코드 조회\n",
    "    sql = \"select * from goods\"\n",
    "    cursor.execute(sql)\n",
    "    rows = cursor.fetchall() # 레코드 가져오기\n",
    "    \n",
    "    for row in rows:\n",
    "        print(row[0], row[1], row[2], row[3])\n",
    "    print('검색된 레코드 수 : ', len(rows))\n",
    "        \n",
    "    # (4) 상품명 조회\n",
    "    name = input(\"상품명 입력 : \")\n",
    "    sql = f\"select * from goods where name like '%{name}%'\"\n",
    "    cursor.execute(sql) # 조회\n",
    "    rows = cursor.fetchall()\n",
    "    \n",
    "    if rows: # null = false\n",
    "        for row in rows:\n",
    "            print(row)\n",
    "    else:\n",
    "        print('검색된 레코드 없음')\n",
    "        \n",
    "except Exception as e:\n",
    "    print('db 연동 error : ', e)\n",
    "    conn.rollback()\n",
    "    \n",
    "finally:\n",
    "    cursor.close()\n",
    "    conn.close()"
   ]
  },
  {
   "attachments": {},
   "cell_type": "markdown",
   "id": "9798513b",
   "metadata": {},
   "source": [
    "# SQLite3 CRUD_2"
   ]
  },
  {
   "cell_type": "code",
   "execution_count": 7,
   "id": "4f996509",
   "metadata": {},
   "outputs": [
    {
     "name": "stdout",
     "output_type": "stream",
     "text": [
      "2 2 2 2.0\n",
      "11 충전기 39 1000.0\n",
      "검색된 레코드 수 :  2\n",
      "(2, '2', 2, 2.0)\n",
      "(11, '충전기', 39, 1000.0)\n"
     ]
    }
   ],
   "source": [
    "try:\n",
    "    # (1) db 연동 객체\n",
    "    conn = sqlite3.connect(\"./data/sqlite\") # db 생성 -> 연결    \n",
    "    \n",
    "    # sql 실행 객체\n",
    "    cursor = conn.cursor()\n",
    "    \n",
    "    # (1) table 생성\n",
    "    sql = \"\"\"create table if not exists goods(\n",
    "    code integer primary key,\n",
    "    name text(30) unique not null,\n",
    "    su integer default 0,\n",
    "    dan real default 0.0\n",
    "    )\"\"\"\n",
    "    cursor.execute(sql) # sql 실행\n",
    "    \n",
    "#     # (2) 레코드 추가\n",
    "#     cursor.execute(\"insert into goods values(1, '냉장고', 2, 8500000)\")\n",
    "#     cursor.execute(\"insert into goods values(2, '세탁기', 3, 5500000)\")\n",
    "#     cursor.execute(\"insert into goods(code , name) values(3, '전자레인지')\")\n",
    "#     cursor.execute(\"insert into goods(code, name, dan) values(4, 'HDTV', 15000000)\")\n",
    "#     conn.commit () # db 반영\n",
    "\n",
    "    # (5) 레코드 추가 2차\n",
    "    code = int(input('code 입력 : '))\n",
    "    name = input('name 입력 : ') # 문자\n",
    "    su = int(input('su 입력 : ') )\n",
    "    dan = int (input ('dan 입력 : ') )\n",
    "    sql = f\"insert into goods values({code}, '{name}', {su}, {dan})\"\n",
    "    cursor.execute(sql) # 레코드 추가\n",
    "    conn.commit()\n",
    "    \n",
    "    # (6) 레코드 수정 code -> su, dan 수정\n",
    "    '''주석처리\n",
    "    code = int(input('수정 code 입력 : '))\n",
    "    su = int(input('수정 su 입력 : '))\n",
    "    dan = int(input('수정 dan 입력 : '))\n",
    "    \n",
    "    sql f\"update goods set su = {su}, dan = {dan} where code = {code}\"\n",
    "    cursor.execute(sql) # 수정\n",
    "    conn.comrnit() # db 반영\n",
    "    '''\n",
    "    # (7) 례코드 삭제 code -> 삭제\n",
    "    ''' 주석처리\n",
    "    code = int(input('삭제 code 입력 : '))\n",
    "    sql f\"delete from goods where code = {code}\"\n",
    "    cursor.execute(sql) # 삭제\n",
    "    conn.commit() # db 반영\n",
    "    '''\n",
    "    # (3) 례코드 조회\n",
    "    sql = \"select * from goods\"\n",
    "    cursor.execute(sql)\n",
    "    rows = cursor.fetchall() # 레코드 가져오기\n",
    "    \n",
    "    for row in rows:\n",
    "        print(row[0], row[1], row[2], row[3])\n",
    "    print('검색된 레코드 수 : ', len(rows))\n",
    "    \n",
    "    # (4) 상품명 조회\n",
    "    name = input(\"상품명 입력 : \")\n",
    "    sql = f\"select * from goods where name like '%{name}%'\"\n",
    "    cursor.execute(sql) # 조회\n",
    "    rows = cursor.fetchall()\n",
    "    \n",
    "    if rows: # null = false\n",
    "        for row in rows:\n",
    "            print(row)\n",
    "    else:\n",
    "        print('검색된 레코드 없음')\n",
    "        \n",
    "except Exception as e:\n",
    "    print('db 연동 error : ', e)\n",
    "    conn.rollback()\n",
    "    \n",
    "finally:\n",
    "    cursor.close()\n",
    "    conn.close()"
   ]
  },
  {
   "attachments": {},
   "cell_type": "markdown",
   "id": "7eb0e739",
   "metadata": {},
   "source": [
    "# 062일차-실습-0-4"
   ]
  },
  {
   "cell_type": "code",
   "execution_count": 27,
   "id": "e44bfba9",
   "metadata": {},
   "outputs": [
    {
     "name": "stdout",
     "output_type": "stream",
     "text": [
      "code \tname \tqty \tunit_price\n",
      "1 \t 선풍기 \t 1 \t 150.0\n",
      "2 \t 에어콘 \t 1 \t 200.0\n",
      "3 \t 충전기 \t 1 \t 100.0\n",
      "4 \t 키보드 \t 1 \t 70.0\n",
      "5 \t 마우스 \t 1 \t 60.0\n",
      "code 값을 입력하세요 : 4\n",
      "조회결과 \n",
      "코드 : 4, 제품명 : 키보드, 수량 : 1,  단가 : 70.0\n"
     ]
    }
   ],
   "source": [
    "try:\n",
    "    # (1) db 연동 객체\n",
    "    conn = sqlite3.connect(\"./data/sqlite2_db.db\") # db 생성 -> 연결\n",
    "\n",
    "    # (2) sql 실행 객체\n",
    "    cursor = conn.cursor()\n",
    "\n",
    "    # (3) table 생성\n",
    "    sql='create table if not exists item(code integer primary key, name text(30) unique not null, qty integer default 0, unit_price real default 0.0)'\n",
    "    cursor.execute(sql) # sql문 실행\n",
    "    \n",
    "    # # (4) 레코드 추가\n",
    "    # cursor.execute(\"insert into item values(1, '선풍기', 1, 150)\")\n",
    "    # cursor.execute(\"insert into item values(2, '에어콘', 1, 200)\")\n",
    "    # cursor.execute(\"insert into item values(3, '충전기', 1, 100)\")\n",
    "    # cursor.execute(\"insert into item values(4, '키보드', 1, 70)\")\n",
    "    # cursor.execute(\"insert into item values(5, '마우스', 1, 60)\")\n",
    "    # conn.commit() # db 반영\n",
    "    \n",
    "    # (5) 레코드 조회\n",
    "    cursor.execute(\"select * from item\")\n",
    "    rows = cursor.fetchall() # 조회 레코드 가져오기\n",
    "\n",
    "        \n",
    "    print('code \\tname \\tqty \\tunit_price') # 레코드 출력\n",
    "    for row in rows:\n",
    "        print (row[0], '\\t', row[1], '\\t', row[2],'\\t', row[3])\n",
    "\n",
    "    # (6) 상품명 조회\n",
    "    code = input(\"조회할 코드를 입력하세요 : \")\n",
    "    sql = f\"select * from item where code like '%{code}%'\"\n",
    "    cursor.execute(sql) # 조회\n",
    "    rows = cursor.fetchall()\n",
    "    \n",
    "    print(f'code 값을 입력하세요 : {code}')\n",
    "\n",
    "    if rows: # null = false\n",
    "        for row in rows:\n",
    "            print (f'조회결과 \\n코드 : {row[0]}, 제품명 : {row[1]}, 수량 : {row[2]},  단가 : {row[3]}')\n",
    "    else:\n",
    "        print('검색된 레코드 없음')\n",
    "        \n",
    "except Exception as e:\n",
    "    print('db 연동 error : ', e)\n",
    "    conn.rollback()\n",
    "    \n",
    "finally:\n",
    "    cursor.close()\n",
    "    conn.close()"
   ]
  }
 ],
 "metadata": {
  "kernelspec": {
   "display_name": "Python 3 (ipykernel)",
   "language": "python",
   "name": "python3"
  },
  "language_info": {
   "codemirror_mode": {
    "name": "ipython",
    "version": 3
   },
   "file_extension": ".py",
   "mimetype": "text/x-python",
   "name": "python",
   "nbconvert_exporter": "python",
   "pygments_lexer": "ipython3",
   "version": "3.8.7"
  }
 },
 "nbformat": 4,
 "nbformat_minor": 5
}
