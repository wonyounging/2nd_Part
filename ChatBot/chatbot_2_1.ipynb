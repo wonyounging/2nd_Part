{
 "cells": [
  {
   "cell_type": "code",
   "execution_count": 31,
   "metadata": {},
   "outputs": [
    {
     "data": {
      "text/plain": [
       "1         5\n",
       "2        11\n",
       "3        14\n",
       "4        30\n",
       "5        33\n",
       "6        38\n",
       "bonus    24\n",
       "dtype: int64"
      ]
     },
     "execution_count": 31,
     "metadata": {},
     "output_type": "execute_result"
    }
   ],
   "source": [
    "import pandas as pd\n",
    "\n",
    "ls = [5,11,14,30,33,38,24]\n",
    "s = pd.Series(ls, index=[1,2,3,4,5,6,'bonus'])\n",
    "s"
   ]
  },
  {
   "cell_type": "code",
   "execution_count": 77,
   "metadata": {},
   "outputs": [
    {
     "name": "stdout",
     "output_type": "stream",
     "text": [
      "-홍길동---이순신---강감찬---유관순---강환석--\n",
      "-53.33점---60.0점---93.33점---83.33점---95.0점--"
     ]
    }
   ],
   "source": [
    "jumsu = {\n",
    "    '홍길동' : [50,60,50],\n",
    "    '이순신' : [60,60,60],\n",
    "    '강감찬' : [100,90,90],\n",
    "    '유관순' : [80,80,90],\n",
    "    '강환석' : [95,95,95],\n",
    "}\n",
    "\n",
    "for i in range(5):\n",
    "    name = list(jumsu.keys())[i]\n",
    "    print(f\"-{name}-\", end='-')\n",
    "print()\n",
    "for i in range(5):\n",
    "    score = list(jumsu.values())[i]\n",
    "    avg = round(sum(score)/len(score),2)\n",
    "    print(f\"-{avg}점-\", end='-')\n"
   ]
  },
  {
   "cell_type": "code",
   "execution_count": 78,
   "metadata": {},
   "outputs": [
    {
     "name": "stdout",
     "output_type": "stream",
     "text": [
      "-홍길동---이순신---강감찬---유관순---강환석--\n",
      "-53.33점--60.00점--93.33점--83.33점--95.00점-"
     ]
    }
   ],
   "source": [
    "# 071일차-실습-0-2-해답 \n",
    "import numpy as np\n",
    "import time\n",
    "from datetime import datetime, date\n",
    "import pandas as pd \n",
    "import numpy as np\n",
    "import matplotlib.pyplot as plt\n",
    "#\n",
    "jumsu = {\n",
    "'홍길동' : [50,60,50],\n",
    "'이순신' : [60,60,60],\n",
    "'강감찬' : [100,90,90],\n",
    "'유관순' : [80,80,90],\n",
    "'강환석' : [95,95,95],\n",
    "}\n",
    "s1_jumsu = pd.Series(jumsu)\n",
    "for i in s1_jumsu.index:\n",
    "    print('-' + i + '-', end='-')\n",
    "print()\n",
    "for i in s1_jumsu.values:\n",
    "    #print(i)\n",
    "    #print(type(i))\n",
    "    print( '-{:.2f}점-'.format( np.mean(i)), end='')  \n",
    "        # np는 numpy 라이브러리를 말함 np.mean()은 평균 함수임"
   ]
  },
  {
   "cell_type": "code",
   "execution_count": 84,
   "metadata": {},
   "outputs": [
    {
     "name": "stdout",
     "output_type": "stream",
     "text": [
      "-홍길동---이순신---강감찬---유관순---강환석--\n",
      "-60.00점--60.00점--100.00점--90.00점--95.00점-\n",
      "-50.00점--60.00점--90.00점--80.00점--95.00점-"
     ]
    }
   ],
   "source": [
    "import numpy as np\n",
    "import pandas as pd \n",
    "#\n",
    "jumsu = {\n",
    "'홍길동' : [50,60,50],\n",
    "'이순신' : [60,60,60],\n",
    "'강감찬' : [100,90,90],\n",
    "'유관순' : [80,80,90],\n",
    "'강환석' : [95,95,95],\n",
    "}\n",
    "s1_jumsu = pd.Series(jumsu)\n",
    "for i in s1_jumsu.index:\n",
    "    print('-' + i + '-', end='-')\n",
    "print()\n",
    "for i in s1_jumsu.values:\n",
    "    #print(i)\n",
    "    #print(type(i))\n",
    "    print( '-{:.2f}점-'.format(np.max(i)), end='')  \n",
    "print()\n",
    "for i in s1_jumsu.values:\n",
    "    #print(i)\n",
    "    #print(type(i))\n",
    "    print( '-{:.2f}점-'.format(np.min(i)), end='')  "
   ]
  },
  {
   "cell_type": "code",
   "execution_count": 142,
   "metadata": {},
   "outputs": [
    {
     "name": "stdout",
     "output_type": "stream",
     "text": [
      "홍길동-홍길도-강감도-유관도-홍길재-강감재-유관재-\n",
      "53.33--48.33--54.33--53.33--48.67--54.67--53.67--\n"
     ]
    }
   ],
   "source": [
    "jumsu = {\n",
    "    '홍길동' : [50,60,50],\n",
    "    '이순동' : [60,60,60],\n",
    "    '강감동' : [100,90,90],\n",
    "    '유관동' : [80,80,90],\n",
    "    '홍길도' : [50,45,50],\n",
    "    '이순도' : [80,70,66],\n",
    "    '강감도' : [64,49,50],\n",
    "    '유관도' : [60,50,50],\n",
    "    '홍길재' : [50,45,51],\n",
    "    '이순재' : [80,70,61],\n",
    "    '강감재' : [64,49,51],\n",
    "    '유관재' : [60,50,51],\n",
    "    '강환석' : [95,95,95],\n",
    "}\n",
    "\n",
    "jumsu2 = dict(  {   key : round(np.mean(value),2)   for key, value  in jumsu.items() if np.mean(value)<60  } )\n",
    "                                                                     # jumsu 딕셔너리의 밸류 중에서 평균이 60 미만인 것만 \n",
    "                                                                     # 뽑아낸 쌍을 items() 튜플에 할당하고 튜플의 요소를 \n",
    "                                                                     # unpacking하여 key, value 라는 변수에 할당하는 for문 \n",
    "                                                                     # items() 함수는 Key와 Value의 쌍을 튜플로 묶은 값을 dict_items  \n",
    "                                                                     # 객체로반환함. 이 구절에서는 튜플로 묶은 dict_items 객체를 \n",
    "                                                                     # in 연산자 왼쪽의  key, value에 unpacking하였다\n",
    "                           # for 문으로 발생한 key, value를 \n",
    "                           # 각각 key와 round(np.mean(value),2)의 쌍으로 구성하고 이것을\n",
    "                # dict() 형변환 함수로 변환하여 jumsu2 딕셔너리로 생성한다.\n",
    "#\n",
    "#print(type(jumsu2)) # 서비스 코드임\n",
    "#print(jumsu2)       # 서비스 코드임\n",
    "#\n",
    "jumsu3 = pd.Series(jumsu2)\n",
    "for i in jumsu3.index:\n",
    "    print(i, end=\"-\")\n",
    "print()\n",
    "for i in jumsu3:\n",
    "    print(i, end=\"--\")\n",
    "print()"
   ]
  },
  {
   "cell_type": "code",
   "execution_count": 153,
   "metadata": {},
   "outputs": [
    {
     "name": "stdout",
     "output_type": "stream",
     "text": [
      "ndarray 메서드의 갯수 56\n",
      "리스트 메서드의 갯수 45\n",
      "ndarray 속성의 갯수 15\n",
      "리스트 속성의 갯수 33\n"
     ]
    }
   ],
   "source": [
    "#071일차-실습-0-5-해답.\n",
    "# ndarray의 메서드 확인 \n",
    "import numpy as np\n",
    "num1 =0\n",
    "for i in dir(np.ndarray) :\n",
    "    if not i.startswith(\"_\") :\n",
    "        if type(np.ndarray.__dict__[i]) == type(np.ndarray.var)  :\n",
    "            #print(i)\n",
    "            num1 +=1\n",
    "print('ndarray 메서드의 갯수',num1)\n",
    " \n",
    "# 리스트 클래스의 메서드 확인 \n",
    "num1=0\n",
    "for i in dir('list') :\n",
    "    if not i.startswith(\"_\") :\n",
    "        #print(i)\n",
    "        num1 +=1\n",
    "print('리스트 메서드의 갯수',num1)\n",
    " \n",
    "import numpy as np\n",
    "# ndarray의 속성(변수) 확인 \n",
    "num1 =0\n",
    "for i in dir(np.ndarray) :\n",
    "    if not i.startswith(\"_\") :\n",
    "        if type(np.ndarray.__dict__[i]) != type(np.ndarray.var)  :\n",
    "            #print(i)\n",
    "            num1 +=1\n",
    "print('ndarray 속성의 갯수',num1)\n",
    " \n",
    "# 리스트 클래스의 속성 확인 \n",
    "num1=0\n",
    "for i in dir('list') :\n",
    "    if i.startswith(\"_\") :\n",
    "        #print(i)\n",
    "        num1 +=1\n",
    "print('리스트 속성의 갯수',num1)\n"
   ]
  },
  {
   "cell_type": "code",
   "execution_count": 157,
   "metadata": {},
   "outputs": [
    {
     "data": {
      "text/plain": [
       "array([[2, 3],\n",
       "       [4, 5]])"
      ]
     },
     "execution_count": 157,
     "metadata": {},
     "output_type": "execute_result"
    }
   ],
   "source": [
    "A = np.array([[1,2], [3,4]])\n",
    "B = np.array([[1,1], [1,1]])\n",
    "C = A + B\n",
    "C"
   ]
  },
  {
   "cell_type": "code",
   "execution_count": 158,
   "metadata": {},
   "outputs": [
    {
     "data": {
      "text/plain": [
       "array([[ 6,  9],\n",
       "       [14, 21],\n",
       "       [22, 33]])"
      ]
     },
     "execution_count": 158,
     "metadata": {},
     "output_type": "execute_result"
    }
   ],
   "source": [
    "A = np.array([[1,2], [3,4], [5,6]])\n",
    "B = np.array([[2,3], [2,3]])\n",
    "C = np.matmul(A, B)\n",
    "C"
   ]
  },
  {
   "cell_type": "code",
   "execution_count": 160,
   "metadata": {},
   "outputs": [
    {
     "name": "stdout",
     "output_type": "stream",
     "text": [
      "0    100\n",
      "1    200\n",
      "2    300\n",
      "dtype: int64\n",
      "국어    90\n",
      "수학    80\n",
      "영어    99\n",
      "dtype: int64\n",
      "Index(['국어', '수학', '영어'], dtype='object')\n",
      "[90 80 99]\n",
      "수학 80\n"
     ]
    }
   ],
   "source": [
    "numbers = pd.Series([100, 200, 300])\n",
    "print(numbers)\n",
    "\n",
    "scores = pd. Series([90,80,99], index=['국어', '수학', '영어'])\n",
    "print(scores)\n",
    "print(scores.index)\n",
    "print(scores.values)\n",
    "print(scores.index[1], scores.values[1])"
   ]
  },
  {
   "cell_type": "code",
   "execution_count": 161,
   "metadata": {},
   "outputs": [
    {
     "name": "stdout",
     "output_type": "stream",
     "text": [
      "       Spring  Summer  Fall  Winter\n",
      "Seoul     3.3    34.5  14.2     -10\n",
      "Pusan     7.1    32.1  10.7       2\n",
      "==================================================\n",
      "Index(['Seoul', 'Pusan'], dtype='object')\n",
      "[[  3.3  34.5  14.2 -10. ]\n",
      " [  7.1  32.1  10.7   2. ]]\n",
      "==================================================\n",
      "3.3\n",
      "==================================================\n",
      "       Spring  Summer  Fall  Winter\n",
      "Pusan     7.1    32.1  10.7       2\n"
     ]
    }
   ],
   "source": [
    "temperatures = [[3.3, 34.5, 14.2, -10], [7.1, 32.1, 10.7, 2]]\n",
    "seasons = ['Spring', 'Summer', 'Fall', 'Winter']\n",
    "regions = ['Seoul', 'Pusan']\n",
    "\n",
    "data = pd.DataFrame(temperatures, index=regions, columns=seasons)\n",
    "\n",
    "print(data)\n",
    "print(\"=\" * 50)\n",
    "print(data.index)\n",
    "print(data.values)\n",
    "print(\"=\" * 50)\n",
    "\n",
    "print(data['Spring']['Seoul'])\n",
    "print(\"=\" * 50)\n",
    "\n",
    "print(data.tail(1))"
   ]
  }
 ],
 "metadata": {
  "kernelspec": {
   "display_name": "Python 3",
   "language": "python",
   "name": "python3"
  },
  "language_info": {
   "codemirror_mode": {
    "name": "ipython",
    "version": 3
   },
   "file_extension": ".py",
   "mimetype": "text/x-python",
   "name": "python",
   "nbconvert_exporter": "python",
   "pygments_lexer": "ipython3",
   "version": "3.8.7"
  },
  "orig_nbformat": 4
 },
 "nbformat": 4,
 "nbformat_minor": 2
}
