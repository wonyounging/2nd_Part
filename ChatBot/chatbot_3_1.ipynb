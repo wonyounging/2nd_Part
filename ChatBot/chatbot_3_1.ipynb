{
 "cells": [
  {
   "attachments": {},
   "cell_type": "markdown",
   "metadata": {},
   "source": [
    "# 토크나이징"
   ]
  },
  {
   "cell_type": "code",
   "execution_count": 1,
   "metadata": {},
   "outputs": [],
   "source": [
    "from konlpy.tag import Kkma"
   ]
  },
  {
   "cell_type": "code",
   "execution_count": 2,
   "metadata": {},
   "outputs": [
    {
     "name": "stdout",
     "output_type": "stream",
     "text": [
      "['아버지', '가', '방', '에', '들어가', 'ㅂ니다', '.']\n",
      "[('아버지', 'NNG'), ('가', 'JKS'), ('방', 'NNG'), ('에', 'JKM'), ('들어가', 'VV'), ('ㅂ니다', 'EFN'), ('.', 'SF')]\n",
      "['아버지', '방']\n",
      "['오늘 날씨는 어 때요?', '내일은 덥다 던데.']\n"
     ]
    }
   ],
   "source": [
    "kkma = Kkma()\n",
    "\n",
    "text = '아버지가 방에 들어갑니다.'\n",
    "\n",
    "morphs = kkma.morphs(text)\n",
    "print(morphs)\n",
    "\n",
    "pos = kkma.pos(text)\n",
    "print(pos)\n",
    "\n",
    "nons = kkma.nouns(text)\n",
    "print(nons)\n",
    "\n",
    "sentences = '오늘 날씨는 어때요? 내일은 덥다던데.'\n",
    "s = kkma.sentences(sentences)\n",
    "print(s)"
   ]
  },
  {
   "cell_type": "code",
   "execution_count": 3,
   "metadata": {},
   "outputs": [],
   "source": [
    "from konlpy.tag import Komoran"
   ]
  },
  {
   "cell_type": "code",
   "execution_count": 4,
   "metadata": {},
   "outputs": [
    {
     "name": "stdout",
     "output_type": "stream",
     "text": [
      "['아버지', '가', '방', '에', '들어가', 'ㅂ니다', '.']\n",
      "[('아버지', 'NNG'), ('가', 'JKS'), ('방', 'NNG'), ('에', 'JKB'), ('들어가', 'VV'), ('ㅂ니다', 'EF'), ('.', 'SF')]\n",
      "['아버지', '방']\n"
     ]
    }
   ],
   "source": [
    "komoran = Komoran()\n",
    "\n",
    "text = '아버지가 방에 들어갑니다.'\n",
    "\n",
    "morphs = komoran.morphs(text)\n",
    "print(morphs)\n",
    "\n",
    "pos = komoran.pos(text)\n",
    "print(pos)\n",
    "\n",
    "nouns = komoran.nouns(text)\n",
    "print(nouns)"
   ]
  },
  {
   "cell_type": "code",
   "execution_count": 5,
   "metadata": {},
   "outputs": [],
   "source": [
    "from konlpy.tag import Okt"
   ]
  },
  {
   "cell_type": "code",
   "execution_count": 13,
   "metadata": {},
   "outputs": [
    {
     "name": "stdout",
     "output_type": "stream",
     "text": [
      "['아버지', '가', '방', '에', '들어갑니다', '.']\n",
      "[('아버지', 'Noun'), ('가', 'Josa'), ('방', 'Noun'), ('에', 'Josa'), ('들어갑니다', 'Verb'), ('.', 'Punctuation')]\n",
      "['아버지', '방']\n",
      "오늘 날씨가 좋아요ㅋㅋ\n",
      "['오늘', '오늘 날씨', '좋아욬', '날씨']\n"
     ]
    }
   ],
   "source": [
    "okt = Okt()\n",
    "\n",
    "text = '아버지가 방에 들어갑니다.'\n",
    "\n",
    "morphs = okt.morphs(text)\n",
    "print(morphs)\n",
    "\n",
    "pos = okt.pos(text)\n",
    "print(pos)\n",
    "\n",
    "nouns = okt.nouns(text)\n",
    "print(nouns)\n",
    "\n",
    "text = \"오늘 날씨가 좋아욬ㅋㅋ\"\n",
    "print(okt.normalize(text))\n",
    "print(okt.phrases(text))"
   ]
  },
  {
   "cell_type": "code",
   "execution_count": 17,
   "metadata": {},
   "outputs": [
    {
     "name": "stdout",
     "output_type": "stream",
     "text": [
      "[('우리', 'NP'), ('챗봇은', 'NA'), ('엔', 'NNB'), ('엘', 'NNP'), ('피', 'NNG'), ('를', 'JKO'), ('좋아하', 'VV'), ('아', 'EF'), ('.', 'SF')]\n"
     ]
    }
   ],
   "source": [
    "komoran = Komoran()\n",
    "text = \"우리 챗봇은 엔엘피를 좋아해.\"\n",
    "pos = komoran.pos(text)\n",
    "print(pos)"
   ]
  },
  {
   "cell_type": "code",
   "execution_count": 28,
   "metadata": {},
   "outputs": [
    {
     "name": "stdout",
     "output_type": "stream",
     "text": [
      "[('우리', 'NP'), ('챗봇은', 'NA'), ('엔엘피', 'NNG'), ('를', 'JKO'), ('좋아하', 'VV'), ('아', 'EC'), ('뉴진스', 'NNG'), ('짱', 'MAG'), ('.', 'SF')]\n"
     ]
    }
   ],
   "source": [
    "komoran = Komoran(userdic='./user_dic.txt')\n",
    "text = \"우리 챗봇은 엔엘피를 좋아해 뉴진스 짱.\"\n",
    "pos = komoran.pos(text)\n",
    "print(pos)"
   ]
  },
  {
   "cell_type": "code",
   "execution_count": 27,
   "metadata": {},
   "outputs": [
    {
     "name": "stdout",
     "output_type": "stream",
     "text": [
      "[('들국화', 'NNG'), ('와', 'JC'), ('산울림', 'NNG'), ('중', 'NNB'), ('최고', 'NNG'), ('의', 'JKG'), ('그룹', 'NNG'), ('은', 'JX'), ('누구', 'NP'), ('이', 'VCP'), ('ㄹ까', 'EF'), ('?', 'SF')]\n",
      "[('들국화', 'NNG'), ('는', 'JX'), ('국화', 'NNG'), ('꽃', 'NNG'), ('과', 'JC'), ('다르', 'VA'), ('ㄹ까', 'EF'), ('?', 'SF')]\n"
     ]
    }
   ],
   "source": [
    "komoran = Komoran(userdic='./user_dic.txt')\n",
    "text1 = \"들국화와 산울림 중 최고의 그룹은 누구일까?\"\n",
    "text2 = \"들국화는 국화꽃과 다를까?\"\n",
    "\n",
    "pos1 = komoran.pos(text1)\n",
    "pos2 = komoran.pos(text2)\n",
    "\n",
    "print(pos1)\n",
    "print(pos2)"
   ]
  },
  {
   "cell_type": "code",
   "execution_count": 26,
   "metadata": {},
   "outputs": [
    {
     "name": "stdout",
     "output_type": "stream",
     "text": [
      "[]\n"
     ]
    }
   ],
   "source": [
    "komoran = Komoran(userdic='./user_dic.txt')\n",
    "text = input(\"대화를 입력해주세요 : \")\n",
    "\n",
    "pos = komoran.pos(text)\n",
    "\n",
    "print(pos)"
   ]
  }
 ],
 "metadata": {
  "kernelspec": {
   "display_name": "Python 3",
   "language": "python",
   "name": "python3"
  },
  "language_info": {
   "codemirror_mode": {
    "name": "ipython",
    "version": 3
   },
   "file_extension": ".py",
   "mimetype": "text/x-python",
   "name": "python",
   "nbconvert_exporter": "python",
   "pygments_lexer": "ipython3",
   "version": "3.8.7"
  },
  "orig_nbformat": 4
 },
 "nbformat": 4,
 "nbformat_minor": 2
}
